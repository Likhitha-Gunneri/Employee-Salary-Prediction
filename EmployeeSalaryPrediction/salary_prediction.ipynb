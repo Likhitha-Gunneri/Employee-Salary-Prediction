{
 "cells": [
  {
   "cell_type": "code",
   "execution_count": 3,
   "id": "724be118",
   "metadata": {},
   "outputs": [
    {
     "name": "stdout",
     "output_type": "stream",
     "text": [
      "✅ Accuracy: 0.7925069096120381\n",
      "              precision    recall  f1-score   support\n",
      "\n",
      "           0       0.82      0.94      0.87      7479\n",
      "           1       0.62      0.30      0.41      2290\n",
      "\n",
      "    accuracy                           0.79      9769\n",
      "   macro avg       0.72      0.62      0.64      9769\n",
      "weighted avg       0.77      0.79      0.76      9769\n",
      "\n"
     ]
    },
    {
     "data": {
      "text/plain": [
       "['model/features.pkl']"
      ]
     },
     "execution_count": 3,
     "metadata": {},
     "output_type": "execute_result"
    }
   ],
   "source": [
    "# Step 1: Import libraries\n",
    "import pandas as pd\n",
    "import numpy as np\n",
    "from sklearn.model_selection import train_test_split\n",
    "from sklearn.preprocessing import LabelEncoder\n",
    "from sklearn.linear_model import LogisticRegression\n",
    "from sklearn.metrics import accuracy_score, classification_report\n",
    "import joblib\n",
    "import os\n",
    "\n",
    "# Step 2: Load the data\n",
    "df = pd.read_csv('data/adult 3.csv')\n",
    "\n",
    "# Step 3: Clean the data\n",
    "df.replace(' ?', np.nan, inplace=True)\n",
    "df.dropna(inplace=True)\n",
    "\n",
    "# Step 4: Encode text data (like workclass, education, etc.)\n",
    "cat_cols = df.select_dtypes(include='object').columns\n",
    "encoders = {}\n",
    "\n",
    "for col in cat_cols:\n",
    "    le = LabelEncoder()\n",
    "    df[col] = le.fit_transform(df[col])\n",
    "    encoders[col] = le\n",
    "\n",
    "# Step 5: Split data\n",
    "X = df.drop('income', axis=1)\n",
    "y = df['income']  # income is the target column\n",
    "\n",
    "X_train, X_test, y_train, y_test = train_test_split(X, y, test_size=0.2, random_state=42)\n",
    "\n",
    "# Step 6: Train model\n",
    "model = LogisticRegression(max_iter=1000)\n",
    "model.fit(X_train, y_train)\n",
    "\n",
    "# Step 7: Evaluate\n",
    "y_pred = model.predict(X_test)\n",
    "print(\"✅ Accuracy:\", accuracy_score(y_test, y_pred))\n",
    "print(classification_report(y_test, y_pred))\n",
    "\n",
    "# Step 8: Save model and encoders\n",
    "if not os.path.exists('model'):\n",
    "    os.makedirs('model')\n",
    "\n",
    "joblib.dump(model, 'model/salary_model.pkl')\n",
    "joblib.dump(encoders, 'model/encoders.pkl')\n",
    "joblib.dump(X.columns.tolist(), 'model/features.pkl')\n"
   ]
  },
  {
   "cell_type": "code",
   "execution_count": null,
   "id": "661d9cfa",
   "metadata": {},
   "outputs": [],
   "source": []
  }
 ],
 "metadata": {
  "kernelspec": {
   "display_name": "Python 3 (ipykernel)",
   "language": "python",
   "name": "python3"
  },
  "language_info": {
   "codemirror_mode": {
    "name": "ipython",
    "version": 3
   },
   "file_extension": ".py",
   "mimetype": "text/x-python",
   "name": "python",
   "nbconvert_exporter": "python",
   "pygments_lexer": "ipython3",
   "version": "3.11.5"
  }
 },
 "nbformat": 4,
 "nbformat_minor": 5
}
